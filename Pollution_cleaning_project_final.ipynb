{
 "cells": [
  {
   "cell_type": "code",
   "execution_count": 2,
   "id": "c0916698",
   "metadata": {},
   "outputs": [],
   "source": [
    "#Queensland Shore Pollution 2002-2020"
   ]
  },
  {
   "cell_type": "code",
   "execution_count": 3,
   "id": "5e7426f0",
   "metadata": {},
   "outputs": [],
   "source": [
    "import pandas as pd\n",
    "import numpy as np"
   ]
  },
  {
   "cell_type": "code",
   "execution_count": 4,
   "id": "ae92031d",
   "metadata": {},
   "outputs": [],
   "source": [
    "#Import Data\n",
    "\n",
    "#NB: Original files should be in a \"data\" folder placed in project's directory of the current notebook"
   ]
  },
  {
   "cell_type": "code",
   "execution_count": 5,
   "id": "0de66f6a",
   "metadata": {},
   "outputs": [],
   "source": [
    "df_0216 = pd.read_csv('data/marinepollutiondata2002to2016.csv', encoding = 'ISO-8859-1')\n",
    "df_1617 = pd.read_csv('data/marinepollutiondata2016to2017.csv', sep=',', encoding=\"utf8\")\n",
    "df_1718 = pd.read_excel('data/marinepollutiondata2017to2018.xlsx')\n",
    "df_1819 = pd.read_csv('data/marinepollutiondata2018to2019.csv', sep=',', encoding=\"utf8\")\n",
    "df_1920 = pd.read_csv('data/marinepollutiondata2019to2020.csv', sep=',', encoding=\"utf8\")"
   ]
  },
  {
   "cell_type": "code",
   "execution_count": 6,
   "id": "8c35a621",
   "metadata": {},
   "outputs": [],
   "source": [
    "#Compare headers and details from all files \n",
    "#df_0216.describe()\n",
    "#df_1617.describe()\n",
    "#df_1718.describe()\n",
    "#df_1819.describe()\n",
    "#df_1920.describe()"
   ]
  },
  {
   "cell_type": "code",
   "execution_count": 4,
   "id": "928901d2",
   "metadata": {},
   "outputs": [
    {
     "ename": "NameError",
     "evalue": "name 'df_1617' is not defined",
     "output_type": "error",
     "traceback": [
      "\u001b[0;31m---------------------------------------------------------------------------\u001b[0m",
      "\u001b[0;31mNameError\u001b[0m                                 Traceback (most recent call last)",
      "\u001b[0;32m/var/folders/fp/nkvz8km55ybd4yzr2wcb2pjr0000gn/T/ipykernel_80799/3630704970.py\u001b[0m in \u001b[0;36m<module>\u001b[0;34m\u001b[0m\n\u001b[1;32m      1\u001b[0m \u001b[0;31m#Rename column Estimated Litres in the 2016-2017 dataset\u001b[0m\u001b[0;34m\u001b[0m\u001b[0;34m\u001b[0m\u001b[0m\n\u001b[0;32m----> 2\u001b[0;31m \u001b[0mdf_1617\u001b[0m\u001b[0;34m.\u001b[0m\u001b[0mrename\u001b[0m\u001b[0;34m(\u001b[0m\u001b[0mcolumns\u001b[0m\u001b[0;34m=\u001b[0m\u001b[0;34m{\u001b[0m\u001b[0;34m\"Estimated Liters\"\u001b[0m\u001b[0;34m:\u001b[0m \u001b[0;34m\"Estimated Litres\"\u001b[0m\u001b[0;34m}\u001b[0m\u001b[0;34m,\u001b[0m \u001b[0minplace\u001b[0m\u001b[0;34m=\u001b[0m\u001b[0;32mTrue\u001b[0m\u001b[0;34m)\u001b[0m\u001b[0;34m\u001b[0m\u001b[0;34m\u001b[0m\u001b[0m\n\u001b[0m\u001b[1;32m      3\u001b[0m \u001b[0mdf_1617\u001b[0m\u001b[0;34m\u001b[0m\u001b[0;34m\u001b[0m\u001b[0m\n",
      "\u001b[0;31mNameError\u001b[0m: name 'df_1617' is not defined"
     ]
    }
   ],
   "source": [
    "#Rename column Estimated Litres in the 2016-2017 dataset\n",
    "df_1617.rename(columns={\"Estimated Liters\": \"Estimated Litres\"}, inplace=True)\n",
    "df_1617"
   ]
  },
  {
   "cell_type": "code",
   "execution_count": 8,
   "id": "f1a726b2",
   "metadata": {},
   "outputs": [
    {
     "data": {
      "text/html": [
       "<div>\n",
       "<style scoped>\n",
       "    .dataframe tbody tr th:only-of-type {\n",
       "        vertical-align: middle;\n",
       "    }\n",
       "\n",
       "    .dataframe tbody tr th {\n",
       "        vertical-align: top;\n",
       "    }\n",
       "\n",
       "    .dataframe thead th {\n",
       "        text-align: right;\n",
       "    }\n",
       "</style>\n",
       "<table border=\"1\" class=\"dataframe\">\n",
       "  <thead>\n",
       "    <tr style=\"text-align: right;\">\n",
       "      <th></th>\n",
       "      <th>Date</th>\n",
       "      <th>Region</th>\n",
       "      <th>Source</th>\n",
       "      <th>Ship Type</th>\n",
       "      <th>Area</th>\n",
       "      <th>Location</th>\n",
       "      <th>Pollutant</th>\n",
       "      <th>Estimated Litres</th>\n",
       "    </tr>\n",
       "  </thead>\n",
       "  <tbody>\n",
       "    <tr>\n",
       "      <th>count</th>\n",
       "      <td>49</td>\n",
       "      <td>49</td>\n",
       "      <td>42</td>\n",
       "      <td>39</td>\n",
       "      <td>49</td>\n",
       "      <td>49</td>\n",
       "      <td>49</td>\n",
       "      <td>39</td>\n",
       "    </tr>\n",
       "    <tr>\n",
       "      <th>unique</th>\n",
       "      <td>45</td>\n",
       "      <td>5</td>\n",
       "      <td>3</td>\n",
       "      <td>5</td>\n",
       "      <td>3</td>\n",
       "      <td>47</td>\n",
       "      <td>18</td>\n",
       "      <td>15</td>\n",
       "    </tr>\n",
       "    <tr>\n",
       "      <th>top</th>\n",
       "      <td>28/10/2017</td>\n",
       "      <td>Brisbane</td>\n",
       "      <td>Ship</td>\n",
       "      <td>Unknown</td>\n",
       "      <td>Port Limits</td>\n",
       "      <td>Gladstone Marina, Gladstone</td>\n",
       "      <td>Diesel</td>\n",
       "      <td>Unknown</td>\n",
       "    </tr>\n",
       "    <tr>\n",
       "      <th>freq</th>\n",
       "      <td>3</td>\n",
       "      <td>19</td>\n",
       "      <td>21</td>\n",
       "      <td>20</td>\n",
       "      <td>30</td>\n",
       "      <td>3</td>\n",
       "      <td>18</td>\n",
       "      <td>10</td>\n",
       "    </tr>\n",
       "  </tbody>\n",
       "</table>\n",
       "</div>"
      ],
      "text/plain": [
       "              Date    Region Source Ship Type         Area  \\\n",
       "count           49        49     42        39           49   \n",
       "unique          45         5      3         5            3   \n",
       "top     28/10/2017  Brisbane   Ship   Unknown  Port Limits   \n",
       "freq             3        19     21        20           30   \n",
       "\n",
       "                           Location Pollutant Estimated Litres  \n",
       "count                            49        49               39  \n",
       "unique                           47        18               15  \n",
       "top     Gladstone Marina, Gladstone    Diesel          Unknown  \n",
       "freq                              3        18               10  "
      ]
     },
     "execution_count": 8,
     "metadata": {},
     "output_type": "execute_result"
    }
   ],
   "source": [
    "# df_1718.describe() shows that the datetype of this dataset is different from the other sets (and will no longer be supported in future Pandas version)\n",
    "# Convert 'Date' column to DD/MM/YYYY format\n",
    "\n",
    "df_1718['Date'] = df_1718['Date'].dt.strftime('%d/%m/%Y')\n",
    "df_1718.describe()"
   ]
  },
  {
   "cell_type": "code",
   "execution_count": 9,
   "id": "ddc0d3c7",
   "metadata": {},
   "outputs": [],
   "source": [
    "#Merge our datasets in a single Dataframe, and reset the original index\n",
    "\n",
    "years = [df_0216, df_1617, df_1718, df_1819, df_1920]\n",
    "\n",
    "df_pol = pd.concat((years), ignore_index=True)"
   ]
  },
  {
   "cell_type": "code",
   "execution_count": 10,
   "id": "207ea71a",
   "metadata": {},
   "outputs": [
    {
     "data": {
      "text/html": [
       "<div>\n",
       "<style scoped>\n",
       "    .dataframe tbody tr th:only-of-type {\n",
       "        vertical-align: middle;\n",
       "    }\n",
       "\n",
       "    .dataframe tbody tr th {\n",
       "        vertical-align: top;\n",
       "    }\n",
       "\n",
       "    .dataframe thead th {\n",
       "        text-align: right;\n",
       "    }\n",
       "</style>\n",
       "<table border=\"1\" class=\"dataframe\">\n",
       "  <thead>\n",
       "    <tr style=\"text-align: right;\">\n",
       "      <th></th>\n",
       "      <th>Date</th>\n",
       "      <th>Region</th>\n",
       "      <th>Source</th>\n",
       "      <th>Ship Type</th>\n",
       "      <th>Area</th>\n",
       "      <th>Location</th>\n",
       "      <th>Pollutant</th>\n",
       "      <th>Estimated Litres</th>\n",
       "    </tr>\n",
       "  </thead>\n",
       "  <tbody>\n",
       "    <tr>\n",
       "      <th>0</th>\n",
       "      <td>2/07/2002</td>\n",
       "      <td>Cairns</td>\n",
       "      <td>Ship</td>\n",
       "      <td>Commercial</td>\n",
       "      <td>Port</td>\n",
       "      <td>Trinity Inlet, Cairns Harbour</td>\n",
       "      <td>Diesel</td>\n",
       "      <td>Unknown</td>\n",
       "    </tr>\n",
       "    <tr>\n",
       "      <th>1</th>\n",
       "      <td>3/07/2002</td>\n",
       "      <td>Cairns</td>\n",
       "      <td>Unknown</td>\n",
       "      <td>Recreational</td>\n",
       "      <td>Coastal Waters</td>\n",
       "      <td>Marina Mirage, Port Douglas</td>\n",
       "      <td>Bilge</td>\n",
       "      <td>Unknown</td>\n",
       "    </tr>\n",
       "    <tr>\n",
       "      <th>2</th>\n",
       "      <td>12/07/2002</td>\n",
       "      <td>Gladstone</td>\n",
       "      <td>Ship</td>\n",
       "      <td>Unknown</td>\n",
       "      <td>Coastal Waters</td>\n",
       "      <td>SE of Double Island Point</td>\n",
       "      <td>Bilge</td>\n",
       "      <td>Unknown</td>\n",
       "    </tr>\n",
       "    <tr>\n",
       "      <th>3</th>\n",
       "      <td>22/07/2002</td>\n",
       "      <td>Brisbane</td>\n",
       "      <td>Unknown</td>\n",
       "      <td>Unknown</td>\n",
       "      <td>Coastal Waters</td>\n",
       "      <td>Town Reach, Brisbane River</td>\n",
       "      <td>Diesel</td>\n",
       "      <td>Unknown</td>\n",
       "    </tr>\n",
       "    <tr>\n",
       "      <th>4</th>\n",
       "      <td>1/08/2002</td>\n",
       "      <td>Gold Coast</td>\n",
       "      <td>Ship</td>\n",
       "      <td>Recreational</td>\n",
       "      <td>Coastal Waters</td>\n",
       "      <td>Canal area - Benowa</td>\n",
       "      <td>Diesel</td>\n",
       "      <td>Unknown</td>\n",
       "    </tr>\n",
       "  </tbody>\n",
       "</table>\n",
       "</div>"
      ],
      "text/plain": [
       "         Date      Region   Source     Ship Type            Area  \\\n",
       "0   2/07/2002      Cairns     Ship    Commercial            Port   \n",
       "1   3/07/2002      Cairns  Unknown  Recreational  Coastal Waters   \n",
       "2  12/07/2002   Gladstone     Ship       Unknown  Coastal Waters   \n",
       "3  22/07/2002    Brisbane  Unknown       Unknown  Coastal Waters   \n",
       "4   1/08/2002  Gold Coast     Ship  Recreational  Coastal Waters   \n",
       "\n",
       "                        Location Pollutant Estimated Litres  \n",
       "0  Trinity Inlet, Cairns Harbour    Diesel          Unknown  \n",
       "1    Marina Mirage, Port Douglas     Bilge          Unknown  \n",
       "2      SE of Double Island Point     Bilge          Unknown  \n",
       "3     Town Reach, Brisbane River    Diesel          Unknown  \n",
       "4            Canal area - Benowa    Diesel          Unknown  "
      ]
     },
     "execution_count": 10,
     "metadata": {},
     "output_type": "execute_result"
    }
   ],
   "source": [
    "df_pol.head()\n"
   ]
  },
  {
   "cell_type": "code",
   "execution_count": 11,
   "id": "e71b97aa",
   "metadata": {},
   "outputs": [
    {
     "data": {
      "text/html": [
       "<div>\n",
       "<style scoped>\n",
       "    .dataframe tbody tr th:only-of-type {\n",
       "        vertical-align: middle;\n",
       "    }\n",
       "\n",
       "    .dataframe tbody tr th {\n",
       "        vertical-align: top;\n",
       "    }\n",
       "\n",
       "    .dataframe thead th {\n",
       "        text-align: right;\n",
       "    }\n",
       "</style>\n",
       "<table border=\"1\" class=\"dataframe\">\n",
       "  <thead>\n",
       "    <tr style=\"text-align: right;\">\n",
       "      <th></th>\n",
       "      <th>Date</th>\n",
       "      <th>Region</th>\n",
       "      <th>Source</th>\n",
       "      <th>Ship Type</th>\n",
       "      <th>Area</th>\n",
       "      <th>Location</th>\n",
       "      <th>Pollutant</th>\n",
       "      <th>Estimated Litres</th>\n",
       "    </tr>\n",
       "  </thead>\n",
       "  <tbody>\n",
       "    <tr>\n",
       "      <th>1093</th>\n",
       "      <td>15/06/2020</td>\n",
       "      <td>Gladstone</td>\n",
       "      <td>Ship</td>\n",
       "      <td>Recreational</td>\n",
       "      <td>Port Limits</td>\n",
       "      <td>Gladstone Marina, Gladstone</td>\n",
       "      <td>Other</td>\n",
       "      <td>&lt;90 litres</td>\n",
       "    </tr>\n",
       "    <tr>\n",
       "      <th>1094</th>\n",
       "      <td>16/06/2020</td>\n",
       "      <td>Townsville</td>\n",
       "      <td>Ship</td>\n",
       "      <td>Commercial</td>\n",
       "      <td>Port Limits</td>\n",
       "      <td>Breakwater Terminal, Ross Creek, Townsville</td>\n",
       "      <td>Sewage</td>\n",
       "      <td>&gt; 100 Litres</td>\n",
       "    </tr>\n",
       "    <tr>\n",
       "      <th>1095</th>\n",
       "      <td>16/06/2020</td>\n",
       "      <td>Brisbane</td>\n",
       "      <td>Ship</td>\n",
       "      <td>Commercial</td>\n",
       "      <td>Port Limits</td>\n",
       "      <td>Fisherman Island 3 berth, Port of Brisbane</td>\n",
       "      <td>Hydraulic Oil</td>\n",
       "      <td>100- 200ml</td>\n",
       "    </tr>\n",
       "    <tr>\n",
       "      <th>1096</th>\n",
       "      <td>23/06/2020</td>\n",
       "      <td>Cairns</td>\n",
       "      <td>Unknown</td>\n",
       "      <td>Unknown</td>\n",
       "      <td>Port Limits</td>\n",
       "      <td>Cairns Marlin Marina, Cairns</td>\n",
       "      <td>Diesel</td>\n",
       "      <td>3-5 litres</td>\n",
       "    </tr>\n",
       "    <tr>\n",
       "      <th>1097</th>\n",
       "      <td>29/06/2020</td>\n",
       "      <td>Cairns</td>\n",
       "      <td>Land</td>\n",
       "      <td>Recreational</td>\n",
       "      <td>Port Limits</td>\n",
       "      <td>Cairns Marlin Marina Sail fish Quays , Cairns</td>\n",
       "      <td>Diesel</td>\n",
       "      <td>2-3 litres</td>\n",
       "    </tr>\n",
       "  </tbody>\n",
       "</table>\n",
       "</div>"
      ],
      "text/plain": [
       "            Date       Region   Source     Ship Type         Area  \\\n",
       "1093  15/06/2020   Gladstone      Ship  Recreational  Port Limits   \n",
       "1094  16/06/2020  Townsville      Ship    Commercial  Port Limits   \n",
       "1095  16/06/2020     Brisbane     Ship    Commercial  Port Limits   \n",
       "1096  23/06/2020       Cairns  Unknown       Unknown  Port Limits   \n",
       "1097  29/06/2020       Cairns     Land  Recreational  Port Limits   \n",
       "\n",
       "                                           Location      Pollutant  \\\n",
       "1093                    Gladstone Marina, Gladstone          Other   \n",
       "1094    Breakwater Terminal, Ross Creek, Townsville         Sewage   \n",
       "1095    Fisherman Island 3 berth, Port of Brisbane   Hydraulic Oil   \n",
       "1096                   Cairns Marlin Marina, Cairns         Diesel   \n",
       "1097  Cairns Marlin Marina Sail fish Quays , Cairns         Diesel   \n",
       "\n",
       "     Estimated Litres  \n",
       "1093      <90 litres   \n",
       "1094     > 100 Litres  \n",
       "1095       100- 200ml  \n",
       "1096       3-5 litres  \n",
       "1097       2-3 litres  "
      ]
     },
     "execution_count": 11,
     "metadata": {},
     "output_type": "execute_result"
    }
   ],
   "source": [
    "df_pol.tail()"
   ]
  },
  {
   "cell_type": "code",
   "execution_count": 12,
   "id": "421632b4",
   "metadata": {},
   "outputs": [
    {
     "data": {
      "text/html": [
       "<div>\n",
       "<style scoped>\n",
       "    .dataframe tbody tr th:only-of-type {\n",
       "        vertical-align: middle;\n",
       "    }\n",
       "\n",
       "    .dataframe tbody tr th {\n",
       "        vertical-align: top;\n",
       "    }\n",
       "\n",
       "    .dataframe thead th {\n",
       "        text-align: right;\n",
       "    }\n",
       "</style>\n",
       "<table border=\"1\" class=\"dataframe\">\n",
       "  <thead>\n",
       "    <tr style=\"text-align: right;\">\n",
       "      <th></th>\n",
       "      <th>Date</th>\n",
       "      <th>Region</th>\n",
       "      <th>Source</th>\n",
       "      <th>Ship Type</th>\n",
       "      <th>Area</th>\n",
       "      <th>Location</th>\n",
       "      <th>Pollutant</th>\n",
       "      <th>Estimated Litres</th>\n",
       "    </tr>\n",
       "  </thead>\n",
       "  <tbody>\n",
       "    <tr>\n",
       "      <th>count</th>\n",
       "      <td>1098</td>\n",
       "      <td>1098</td>\n",
       "      <td>1091</td>\n",
       "      <td>856</td>\n",
       "      <td>1098</td>\n",
       "      <td>1098</td>\n",
       "      <td>1096</td>\n",
       "      <td>1077</td>\n",
       "    </tr>\n",
       "    <tr>\n",
       "      <th>unique</th>\n",
       "      <td>983</td>\n",
       "      <td>14</td>\n",
       "      <td>9</td>\n",
       "      <td>24</td>\n",
       "      <td>13</td>\n",
       "      <td>866</td>\n",
       "      <td>107</td>\n",
       "      <td>160</td>\n",
       "    </tr>\n",
       "    <tr>\n",
       "      <th>top</th>\n",
       "      <td>1/02/2009</td>\n",
       "      <td>Brisbane</td>\n",
       "      <td>Ship</td>\n",
       "      <td>Commercial</td>\n",
       "      <td>Coastal Waters</td>\n",
       "      <td>Marina Mirage, Port Douglas</td>\n",
       "      <td>Diesel</td>\n",
       "      <td>Unknown</td>\n",
       "    </tr>\n",
       "    <tr>\n",
       "      <th>freq</th>\n",
       "      <td>3</td>\n",
       "      <td>344</td>\n",
       "      <td>659</td>\n",
       "      <td>273</td>\n",
       "      <td>325</td>\n",
       "      <td>15</td>\n",
       "      <td>463</td>\n",
       "      <td>601</td>\n",
       "    </tr>\n",
       "  </tbody>\n",
       "</table>\n",
       "</div>"
      ],
      "text/plain": [
       "             Date    Region Source   Ship Type            Area  \\\n",
       "count        1098      1098   1091         856            1098   \n",
       "unique        983        14      9          24              13   \n",
       "top     1/02/2009  Brisbane   Ship  Commercial  Coastal Waters   \n",
       "freq            3       344    659         273             325   \n",
       "\n",
       "                           Location Pollutant Estimated Litres  \n",
       "count                          1098      1096             1077  \n",
       "unique                          866       107              160  \n",
       "top     Marina Mirage, Port Douglas    Diesel          Unknown  \n",
       "freq                             15       463              601  "
      ]
     },
     "execution_count": 12,
     "metadata": {},
     "output_type": "execute_result"
    }
   ],
   "source": [
    "df_pol.describe()"
   ]
  },
  {
   "cell_type": "code",
   "execution_count": 13,
   "id": "dd98dcc6",
   "metadata": {},
   "outputs": [
    {
     "data": {
      "text/plain": [
       "Date                  0\n",
       "Region                0\n",
       "Source                7\n",
       "Ship Type           242\n",
       "Area                  0\n",
       "Location              0\n",
       "Pollutant             2\n",
       "Estimated Litres     21\n",
       "dtype: int64"
      ]
     },
     "execution_count": 13,
     "metadata": {},
     "output_type": "execute_result"
    }
   ],
   "source": [
    "df_pol.isnull().sum()"
   ]
  },
  {
   "cell_type": "code",
   "execution_count": 14,
   "id": "83c9c15f",
   "metadata": {},
   "outputs": [],
   "source": [
    "#Rename the index column to make it our unique key identifying pollution events\n",
    "#Event ID should start with 1 instead of 0\n",
    "\n",
    "df_pol.index += 1\n",
    "df_pol.index = df_pol.index.set_names(['Event ID'])"
   ]
  },
  {
   "cell_type": "code",
   "execution_count": 15,
   "id": "1ab1f1eb",
   "metadata": {},
   "outputs": [
    {
     "data": {
      "text/html": [
       "<div>\n",
       "<style scoped>\n",
       "    .dataframe tbody tr th:only-of-type {\n",
       "        vertical-align: middle;\n",
       "    }\n",
       "\n",
       "    .dataframe tbody tr th {\n",
       "        vertical-align: top;\n",
       "    }\n",
       "\n",
       "    .dataframe thead th {\n",
       "        text-align: right;\n",
       "    }\n",
       "</style>\n",
       "<table border=\"1\" class=\"dataframe\">\n",
       "  <thead>\n",
       "    <tr style=\"text-align: right;\">\n",
       "      <th></th>\n",
       "      <th>Date</th>\n",
       "      <th>Region</th>\n",
       "      <th>Source</th>\n",
       "      <th>Ship Type</th>\n",
       "      <th>Area</th>\n",
       "      <th>Location</th>\n",
       "      <th>Pollutant</th>\n",
       "      <th>Estimated Litres</th>\n",
       "    </tr>\n",
       "    <tr>\n",
       "      <th>Event ID</th>\n",
       "      <th></th>\n",
       "      <th></th>\n",
       "      <th></th>\n",
       "      <th></th>\n",
       "      <th></th>\n",
       "      <th></th>\n",
       "      <th></th>\n",
       "      <th></th>\n",
       "    </tr>\n",
       "  </thead>\n",
       "  <tbody>\n",
       "    <tr>\n",
       "      <th>1</th>\n",
       "      <td>2/07/2002</td>\n",
       "      <td>Cairns</td>\n",
       "      <td>Ship</td>\n",
       "      <td>Commercial</td>\n",
       "      <td>Port</td>\n",
       "      <td>Trinity Inlet, Cairns Harbour</td>\n",
       "      <td>Diesel</td>\n",
       "      <td>Unknown</td>\n",
       "    </tr>\n",
       "    <tr>\n",
       "      <th>2</th>\n",
       "      <td>3/07/2002</td>\n",
       "      <td>Cairns</td>\n",
       "      <td>Unknown</td>\n",
       "      <td>Recreational</td>\n",
       "      <td>Coastal Waters</td>\n",
       "      <td>Marina Mirage, Port Douglas</td>\n",
       "      <td>Bilge</td>\n",
       "      <td>Unknown</td>\n",
       "    </tr>\n",
       "    <tr>\n",
       "      <th>3</th>\n",
       "      <td>12/07/2002</td>\n",
       "      <td>Gladstone</td>\n",
       "      <td>Ship</td>\n",
       "      <td>Unknown</td>\n",
       "      <td>Coastal Waters</td>\n",
       "      <td>SE of Double Island Point</td>\n",
       "      <td>Bilge</td>\n",
       "      <td>Unknown</td>\n",
       "    </tr>\n",
       "    <tr>\n",
       "      <th>4</th>\n",
       "      <td>22/07/2002</td>\n",
       "      <td>Brisbane</td>\n",
       "      <td>Unknown</td>\n",
       "      <td>Unknown</td>\n",
       "      <td>Coastal Waters</td>\n",
       "      <td>Town Reach, Brisbane River</td>\n",
       "      <td>Diesel</td>\n",
       "      <td>Unknown</td>\n",
       "    </tr>\n",
       "    <tr>\n",
       "      <th>5</th>\n",
       "      <td>1/08/2002</td>\n",
       "      <td>Gold Coast</td>\n",
       "      <td>Ship</td>\n",
       "      <td>Recreational</td>\n",
       "      <td>Coastal Waters</td>\n",
       "      <td>Canal area - Benowa</td>\n",
       "      <td>Diesel</td>\n",
       "      <td>Unknown</td>\n",
       "    </tr>\n",
       "  </tbody>\n",
       "</table>\n",
       "</div>"
      ],
      "text/plain": [
       "                Date      Region   Source     Ship Type            Area  \\\n",
       "Event ID                                                                  \n",
       "1          2/07/2002      Cairns     Ship    Commercial            Port   \n",
       "2          3/07/2002      Cairns  Unknown  Recreational  Coastal Waters   \n",
       "3         12/07/2002   Gladstone     Ship       Unknown  Coastal Waters   \n",
       "4         22/07/2002    Brisbane  Unknown       Unknown  Coastal Waters   \n",
       "5          1/08/2002  Gold Coast     Ship  Recreational  Coastal Waters   \n",
       "\n",
       "                               Location Pollutant Estimated Litres  \n",
       "Event ID                                                            \n",
       "1         Trinity Inlet, Cairns Harbour    Diesel          Unknown  \n",
       "2           Marina Mirage, Port Douglas     Bilge          Unknown  \n",
       "3             SE of Double Island Point     Bilge          Unknown  \n",
       "4            Town Reach, Brisbane River    Diesel          Unknown  \n",
       "5                   Canal area - Benowa    Diesel          Unknown  "
      ]
     },
     "execution_count": 15,
     "metadata": {},
     "output_type": "execute_result"
    }
   ],
   "source": [
    "df_pol.head()"
   ]
  },
  {
   "cell_type": "code",
   "execution_count": 16,
   "id": "bd1a20fb",
   "metadata": {},
   "outputs": [],
   "source": [
    "#CLEANING DATA"
   ]
  },
  {
   "cell_type": "code",
   "execution_count": 17,
   "id": "342d99c2",
   "metadata": {},
   "outputs": [],
   "source": [
    "#get values to lowercase"
   ]
  },
  {
   "cell_type": "code",
   "execution_count": 18,
   "id": "b1bf9544",
   "metadata": {},
   "outputs": [],
   "source": [
    "columns_to_lowercase = [\"Source\", \"Ship Type\", \"Area\", \"Pollutant\", \"Estimated Litres\"]\n",
    "for col in columns_to_lowercase:\n",
    "    df_pol[col] = df_pol[col].str.lower()"
   ]
  },
  {
   "cell_type": "code",
   "execution_count": 19,
   "id": "b4cec376",
   "metadata": {},
   "outputs": [
    {
     "name": "stdout",
     "output_type": "stream",
     "text": [
      "         Date    Region Source Ship Type         Area  \\\n",
      "Event ID                                                \n",
      "1005      NaT  Brisbane   land       NaN  port limits   \n",
      "1009      NaT    Mackay   ship      comm  port limits   \n",
      "\n",
      "                                                 Location Pollutant  \\\n",
      "Event ID                                                              \n",
      "1005                       Caltex Wharf, Lytton, Brisbane    diesel   \n",
      "1009      Maritime Terminal, Port of Airlie, Airlie Beach     sheen   \n",
      "\n",
      "         Estimated Litres  \n",
      "Event ID                   \n",
      "1005               50-60m  \n",
      "1009            0.5m x 3m  \n"
     ]
    }
   ],
   "source": [
    "# Convert 'Date' column to datetime format to make it usable in SQL\n",
    "\n",
    "df_pol['Date'] = pd.to_datetime(df_pol['Date'], format='%d/%m/%Y', errors='coerce')\n",
    "\n",
    "\n",
    "# Spot the invalid date values\n",
    "mask = df_pol['Date'].isnull()\n",
    "\n",
    "# display rows where date is not valid\n",
    "print(df_pol[mask])\n",
    "\n",
    "#This confirms our dates are now valid"
   ]
  },
  {
   "cell_type": "code",
   "execution_count": 20,
   "id": "fd1a4260",
   "metadata": {},
   "outputs": [
    {
     "data": {
      "text/html": [
       "<div>\n",
       "<style scoped>\n",
       "    .dataframe tbody tr th:only-of-type {\n",
       "        vertical-align: middle;\n",
       "    }\n",
       "\n",
       "    .dataframe tbody tr th {\n",
       "        vertical-align: top;\n",
       "    }\n",
       "\n",
       "    .dataframe thead th {\n",
       "        text-align: right;\n",
       "    }\n",
       "</style>\n",
       "<table border=\"1\" class=\"dataframe\">\n",
       "  <thead>\n",
       "    <tr style=\"text-align: right;\">\n",
       "      <th></th>\n",
       "      <th>Date</th>\n",
       "      <th>Region</th>\n",
       "      <th>Source</th>\n",
       "      <th>Ship Type</th>\n",
       "      <th>Area</th>\n",
       "      <th>Location</th>\n",
       "      <th>Pollutant</th>\n",
       "      <th>Estimated Litres</th>\n",
       "    </tr>\n",
       "    <tr>\n",
       "      <th>Event ID</th>\n",
       "      <th></th>\n",
       "      <th></th>\n",
       "      <th></th>\n",
       "      <th></th>\n",
       "      <th></th>\n",
       "      <th></th>\n",
       "      <th></th>\n",
       "      <th></th>\n",
       "    </tr>\n",
       "  </thead>\n",
       "  <tbody>\n",
       "    <tr>\n",
       "      <th>1</th>\n",
       "      <td>2002-07-02 00:00:00</td>\n",
       "      <td>Cairns</td>\n",
       "      <td>ship</td>\n",
       "      <td>commercial</td>\n",
       "      <td>port</td>\n",
       "      <td>Trinity Inlet, Cairns Harbour</td>\n",
       "      <td>diesel</td>\n",
       "      <td>unknown</td>\n",
       "    </tr>\n",
       "    <tr>\n",
       "      <th>2</th>\n",
       "      <td>2002-07-03 00:00:00</td>\n",
       "      <td>Cairns</td>\n",
       "      <td>unknown</td>\n",
       "      <td>recreational</td>\n",
       "      <td>coastal waters</td>\n",
       "      <td>Marina Mirage, Port Douglas</td>\n",
       "      <td>bilge</td>\n",
       "      <td>unknown</td>\n",
       "    </tr>\n",
       "    <tr>\n",
       "      <th>3</th>\n",
       "      <td>2002-07-12 00:00:00</td>\n",
       "      <td>Gladstone</td>\n",
       "      <td>ship</td>\n",
       "      <td>unknown</td>\n",
       "      <td>coastal waters</td>\n",
       "      <td>SE of Double Island Point</td>\n",
       "      <td>bilge</td>\n",
       "      <td>unknown</td>\n",
       "    </tr>\n",
       "    <tr>\n",
       "      <th>4</th>\n",
       "      <td>2002-07-22 00:00:00</td>\n",
       "      <td>Brisbane</td>\n",
       "      <td>unknown</td>\n",
       "      <td>unknown</td>\n",
       "      <td>coastal waters</td>\n",
       "      <td>Town Reach, Brisbane River</td>\n",
       "      <td>diesel</td>\n",
       "      <td>unknown</td>\n",
       "    </tr>\n",
       "    <tr>\n",
       "      <th>5</th>\n",
       "      <td>2002-08-01 00:00:00</td>\n",
       "      <td>Gold Coast</td>\n",
       "      <td>ship</td>\n",
       "      <td>recreational</td>\n",
       "      <td>coastal waters</td>\n",
       "      <td>Canal area - Benowa</td>\n",
       "      <td>diesel</td>\n",
       "      <td>unknown</td>\n",
       "    </tr>\n",
       "    <tr>\n",
       "      <th>...</th>\n",
       "      <td>...</td>\n",
       "      <td>...</td>\n",
       "      <td>...</td>\n",
       "      <td>...</td>\n",
       "      <td>...</td>\n",
       "      <td>...</td>\n",
       "      <td>...</td>\n",
       "      <td>...</td>\n",
       "    </tr>\n",
       "    <tr>\n",
       "      <th>1094</th>\n",
       "      <td>2020-06-15 00:00:00</td>\n",
       "      <td>Gladstone</td>\n",
       "      <td>ship</td>\n",
       "      <td>recreational</td>\n",
       "      <td>port limits</td>\n",
       "      <td>Gladstone Marina, Gladstone</td>\n",
       "      <td>other</td>\n",
       "      <td>&lt;90 litres</td>\n",
       "    </tr>\n",
       "    <tr>\n",
       "      <th>1095</th>\n",
       "      <td>2020-06-16 00:00:00</td>\n",
       "      <td>Townsville</td>\n",
       "      <td>ship</td>\n",
       "      <td>commercial</td>\n",
       "      <td>port limits</td>\n",
       "      <td>Breakwater Terminal, Ross Creek, Townsville</td>\n",
       "      <td>sewage</td>\n",
       "      <td>&gt; 100 litres</td>\n",
       "    </tr>\n",
       "    <tr>\n",
       "      <th>1096</th>\n",
       "      <td>2020-06-16 00:00:00</td>\n",
       "      <td>Brisbane</td>\n",
       "      <td>ship</td>\n",
       "      <td>commercial</td>\n",
       "      <td>port limits</td>\n",
       "      <td>Fisherman Island 3 berth, Port of Brisbane</td>\n",
       "      <td>hydraulic oil</td>\n",
       "      <td>100- 200ml</td>\n",
       "    </tr>\n",
       "    <tr>\n",
       "      <th>1097</th>\n",
       "      <td>2020-06-23 00:00:00</td>\n",
       "      <td>Cairns</td>\n",
       "      <td>unknown</td>\n",
       "      <td>unknown</td>\n",
       "      <td>port limits</td>\n",
       "      <td>Cairns Marlin Marina, Cairns</td>\n",
       "      <td>diesel</td>\n",
       "      <td>3-5 litres</td>\n",
       "    </tr>\n",
       "    <tr>\n",
       "      <th>1098</th>\n",
       "      <td>2020-06-29 00:00:00</td>\n",
       "      <td>Cairns</td>\n",
       "      <td>land</td>\n",
       "      <td>recreational</td>\n",
       "      <td>port limits</td>\n",
       "      <td>Cairns Marlin Marina Sail fish Quays , Cairns</td>\n",
       "      <td>diesel</td>\n",
       "      <td>2-3 litres</td>\n",
       "    </tr>\n",
       "  </tbody>\n",
       "</table>\n",
       "<p>1098 rows × 8 columns</p>\n",
       "</div>"
      ],
      "text/plain": [
       "                         Date       Region   Source     Ship Type  \\\n",
       "Event ID                                                            \n",
       "1         2002-07-02 00:00:00       Cairns     ship    commercial   \n",
       "2         2002-07-03 00:00:00       Cairns  unknown  recreational   \n",
       "3         2002-07-12 00:00:00    Gladstone     ship       unknown   \n",
       "4         2002-07-22 00:00:00     Brisbane  unknown       unknown   \n",
       "5         2002-08-01 00:00:00   Gold Coast     ship  recreational   \n",
       "...                       ...          ...      ...           ...   \n",
       "1094      2020-06-15 00:00:00   Gladstone      ship  recreational   \n",
       "1095      2020-06-16 00:00:00  Townsville      ship    commercial   \n",
       "1096      2020-06-16 00:00:00     Brisbane     ship    commercial   \n",
       "1097      2020-06-23 00:00:00       Cairns  unknown       unknown   \n",
       "1098      2020-06-29 00:00:00       Cairns     land  recreational   \n",
       "\n",
       "                    Area                                       Location  \\\n",
       "Event ID                                                                  \n",
       "1                   port                  Trinity Inlet, Cairns Harbour   \n",
       "2         coastal waters                    Marina Mirage, Port Douglas   \n",
       "3         coastal waters                      SE of Double Island Point   \n",
       "4         coastal waters                     Town Reach, Brisbane River   \n",
       "5         coastal waters                            Canal area - Benowa   \n",
       "...                  ...                                            ...   \n",
       "1094         port limits                    Gladstone Marina, Gladstone   \n",
       "1095         port limits    Breakwater Terminal, Ross Creek, Townsville   \n",
       "1096         port limits    Fisherman Island 3 berth, Port of Brisbane    \n",
       "1097         port limits                   Cairns Marlin Marina, Cairns   \n",
       "1098         port limits  Cairns Marlin Marina Sail fish Quays , Cairns   \n",
       "\n",
       "              Pollutant Estimated Litres  \n",
       "Event ID                                  \n",
       "1                diesel          unknown  \n",
       "2                 bilge          unknown  \n",
       "3                 bilge          unknown  \n",
       "4                diesel          unknown  \n",
       "5                diesel          unknown  \n",
       "...                 ...              ...  \n",
       "1094              other      <90 litres   \n",
       "1095             sewage     > 100 litres  \n",
       "1096      hydraulic oil       100- 200ml  \n",
       "1097             diesel       3-5 litres  \n",
       "1098             diesel       2-3 litres  \n",
       "\n",
       "[1098 rows x 8 columns]"
      ]
     },
     "execution_count": 20,
     "metadata": {},
     "output_type": "execute_result"
    }
   ],
   "source": [
    "#We still need to add HH:MM:SS for our Dates to be imported into MySQL\n",
    "\n",
    "df_pol['Date'] = df_pol['Date'].dt.strftime('%Y-%m-%d %H:%M:%S')\n",
    "\n",
    "df_pol"
   ]
  },
  {
   "cell_type": "code",
   "execution_count": 21,
   "id": "c6b3a96c",
   "metadata": {},
   "outputs": [
    {
     "data": {
      "text/plain": [
       "array(['Cairns', 'Gladstone', 'Brisbane', 'Gold Coast', 'Mackay',\n",
       "       'Townsville', 'At Sea', 'Gladstone ', 'Brisbale', 'Brisbane ',\n",
       "       'Cairns ', 'Hay Point', 'Bundaberg', 'Townsville '], dtype=object)"
      ]
     },
     "execution_count": 21,
     "metadata": {},
     "output_type": "execute_result"
    }
   ],
   "source": [
    "#Checking content of each column - detect missing/incorrect/duplicates values\n",
    "df_region = df_pol[\"Region\"].unique()\n",
    "df_region\n"
   ]
  },
  {
   "cell_type": "code",
   "execution_count": 22,
   "id": "f4252f0b",
   "metadata": {},
   "outputs": [
    {
     "data": {
      "text/plain": [
       "array(['ship', 'unknown', 'land', 'aircraft', 'helicopter',\n",
       "       'truck in water', nan, 'coral'], dtype=object)"
      ]
     },
     "execution_count": 22,
     "metadata": {},
     "output_type": "execute_result"
    }
   ],
   "source": [
    "df_source = df_pol[\"Source\"].unique()\n",
    "df_source"
   ]
  },
  {
   "cell_type": "code",
   "execution_count": 23,
   "id": "2ab21654",
   "metadata": {},
   "outputs": [
    {
     "data": {
      "text/plain": [
       "array(['commercial', 'recreational', 'unknown', 'fishing', nan, 'trading',\n",
       "       'tanker', 'defence', 'oil tanker', 'helicopter', 'customs',\n",
       "       'n/a - museum piece', 'recreation', 'land', 'naval',\n",
       "       'bulk carrier', 'trading ship', 'sailling vessel', 'navy', 'na',\n",
       "       'rec', 'comm', 'fish'], dtype=object)"
      ]
     },
     "execution_count": 23,
     "metadata": {},
     "output_type": "execute_result"
    }
   ],
   "source": [
    "df_ship = df_pol[\"Ship Type\"].unique()\n",
    "df_ship"
   ]
  },
  {
   "cell_type": "code",
   "execution_count": 24,
   "id": "ab10c2fa",
   "metadata": {},
   "outputs": [
    {
     "data": {
      "text/plain": [
       "array(['port', 'coastal waters', 'offshore', 'gbr', 'coastal', 'gbrmp',\n",
       "       'territorial sea', 'port limits', 'marina', 'inland waters'],\n",
       "      dtype=object)"
      ]
     },
     "execution_count": 24,
     "metadata": {},
     "output_type": "execute_result"
    }
   ],
   "source": [
    "df_area = df_pol[\"Area\"].unique()\n",
    "df_area"
   ]
  },
  {
   "cell_type": "code",
   "execution_count": 25,
   "id": "d5664966",
   "metadata": {},
   "outputs": [
    {
     "data": {
      "text/plain": [
       "array(['diesel', 'bilge', 'cotton seed residue', 'hfo', 'hydraulic oil',\n",
       "       'garbage', 'paint', 'tar', 'tallo', 'petrol', 'sheen', 'hydraulic',\n",
       "       'fuel oil', 'crude', 'avgas', 'paint dust', 'chemical', 'unknown',\n",
       "       'other', 'fatty substance', 'lubricating oil', 'other - lube ',\n",
       "       'other - lube', 'other - hyd', 'other - gearbox',\n",
       "       'other - hydraulic', 'lube oil', 'coke', 'petroleum coke',\n",
       "       'hydraulic ', 'discoloured water', 'diesel ', 'soot',\n",
       "       'discoloured water ', 'oil', 'lubricating', 'engine oil',\n",
       "       'light oil', 'vegetable', 'tallow ', ' hydraulic ', 'lubricating ',\n",
       "       'engine ', 'coolant', ' petrol', 'heating ',\n",
       "       'carbon from diesel engine', 'hydraulic fluid', nan,\n",
       "       'palm acid oil', 'sodium hypochlorite', 'sulphur',\n",
       "       'sewage & grey water', 'ground food waste 1890 kg', 'cooking oil',\n",
       "       'chemical (aflco)', 'lanolin', 'other (hydraulic oil)',\n",
       "       'other (calcined petroleum coke)', 'other (lube oil)',\n",
       "       'other (gearbox oil)', 'other (carbon soot)', 'other (bitumen)',\n",
       "       'other (tar balls)', 'other (stock feed)', 'other (paint)',\n",
       "       'other (emulsion)', 'other (panolin)', 'grease ', 'bitumen spray',\n",
       "       'heavy fuel oil', 'ulp', 'other (molasses)', 'other (grease)',\n",
       "       'other (slop oil)', 'other (sump oil)', 'other ',\n",
       "       'other (coal slurry)', 'other (sewage)',\n",
       "       'other (sand blasting sand)', 'other (engine oil)', 'other (soot)',\n",
       "       'other (low sulphur gas oil)', 'other (garnet and paint)',\n",
       "       'other (grease trap)', 'other (lubricant oil)',\n",
       "       'other (grey water)', 'diesel sheen', 'lubrication oil',\n",
       "       'molasses', 'sodium hydroxide 50%', 'sump oil',\n",
       "       'hydrocarbons into sewage treatment plant', 'garbage ',\n",
       "       'unleaded petrol', 'grease', 'sheen ', 'coal dust', 'bilge water',\n",
       "       'bilge water ', 'palm oil', 'hydraulic oil ', 'trichodesmium',\n",
       "       'sewage'], dtype=object)"
      ]
     },
     "execution_count": 25,
     "metadata": {},
     "output_type": "execute_result"
    }
   ],
   "source": [
    "df_pollutant = df_pol[\"Pollutant\"].unique()\n",
    "df_pollutant"
   ]
  },
  {
   "cell_type": "code",
   "execution_count": 26,
   "id": "6e1a7694",
   "metadata": {},
   "outputs": [
    {
     "data": {
      "text/plain": [
       "array(['unknown', '20', '50', '5', '15', '6', '2', '40', '60', '100',\n",
       "       '500', '300', nan, '10', '2000', '180', '1000', '3000', '200',\n",
       "       '30', '75', '1', '25', '3', '700', '7', '0.2', '7000', '0.5', '77',\n",
       "       '4', '270,000', '35', '8', '120', '600', '400', '2500', '1500',\n",
       "       '0.3', '0.1', '14000', '30kg', '250', '150', '> 10,000', '250mil',\n",
       "       'sheen', '70', '11', '1.5', '2.5', '12', '<2l', '2-3l', '500x6m',\n",
       "       '15l', '<1l', '100-200l', '200m x 10m', '95m x 25m', '20-30l',\n",
       "       '1l', '100mx100m', '20l', '200mx4m', '100m x 50m', '200l',\n",
       "       '44g drum', '2x2m', '4x5m', '600x150m', '100x3m', '10l', '650x2m',\n",
       "       '30l', '200-400l', '600x20m', '2l', '10-15l', '0.5l', '20mx30m ',\n",
       "       '200m', '4l', '200mx 50m', '50-60m', '1m x 10m', '0.5 x 5m', '50m',\n",
       "       '0.5m x 3m', '50l', '1200l', '1000l', '< 20l', '100l', '40-50l',\n",
       "       '< 5l', '7-10 m2', '50m x 5m', '6-8l', '20mx  5m', '3l', '32l ',\n",
       "       '15m  wide ', '<5l', 'algal bloom', '3000m x 2000m', '100ml',\n",
       "       '1300l', '10m x 2nm', '50m x 30m', '200+l', '500m x 50m',\n",
       "       '10 litres', 'none', '1500l', 'oily rags', '600m x 60m ',\n",
       "       '1 cubic metre', '3m x 50m', '20m x 5m ', '40l', '300 l',\n",
       "       '100m x 75m ', '2m x 10m', '200 x 20m', '50m x 15m', '150m x 2m',\n",
       "       '30mx 10m', '50m wide ', '<2 litres', '30m x 2 m ', '1 litre',\n",
       "       '80 litres', '0.5 litres', '10 x 10 m', '150x5m ', 'nil',\n",
       "       '50m x 20m', '500ml to 1 litre', '2-6 litres', '100m x 2 m',\n",
       "       '200 litres', '1/2 litre', '20 to 30 litres ', '<5 litres',\n",
       "       '1nm wide & long ', '75 litres ', '<90 litres ', '> 100 litres',\n",
       "       '100- 200ml', '3-5 litres', '2-3 litres'], dtype=object)"
      ]
     },
     "execution_count": 26,
     "metadata": {},
     "output_type": "execute_result"
    }
   ],
   "source": [
    "df_volume = df_pol[\"Estimated Litres\"].unique()\n",
    "df_volume"
   ]
  },
  {
   "cell_type": "code",
   "execution_count": 27,
   "id": "bd1e5c90",
   "metadata": {},
   "outputs": [],
   "source": [
    "#Filling N/A"
   ]
  },
  {
   "cell_type": "code",
   "execution_count": 28,
   "id": "0d67f4a7",
   "metadata": {},
   "outputs": [],
   "source": [
    "#Replacing Values"
   ]
  },
  {
   "cell_type": "code",
   "execution_count": 29,
   "id": "cb761521",
   "metadata": {},
   "outputs": [],
   "source": [
    "# Region #\n",
    "df_pol['Region'] = df_pol['Region'].replace('Brisbale', 'Brisbane')\n",
    "\n",
    "#Remove extra-space\n",
    "df_pol[\"Region\"] = df_pol[\"Region\"].str.rstrip()"
   ]
  },
  {
   "cell_type": "code",
   "execution_count": 30,
   "id": "76e8f4a8",
   "metadata": {},
   "outputs": [
    {
     "data": {
      "text/plain": [
       "array(['Cairns', 'Gladstone', 'Brisbane', 'Gold Coast', 'Mackay',\n",
       "       'Townsville', 'At Sea', 'Hay Point', 'Bundaberg'], dtype=object)"
      ]
     },
     "execution_count": 30,
     "metadata": {},
     "output_type": "execute_result"
    }
   ],
   "source": [
    "df_region = df_pol[\"Region\"].unique()\n",
    "df_region"
   ]
  },
  {
   "cell_type": "code",
   "execution_count": 31,
   "id": "bab58ea6",
   "metadata": {},
   "outputs": [],
   "source": [
    "# Source #\n",
    "\n",
    "# Fill na data with \"Unknown\" - unless 'Ship Type' column shows they should be ship\n",
    "\n",
    "# Find the rows with empty values in the 'Source' column\n",
    "mask = df_pol['Source'].isnull()\n",
    "\n",
    "# Filter the dataframe using the mask and check if Ship Type value is notnull, not unknown, not n/a\n",
    "update_source_to_ship = df_pol.loc[mask & (df_pol['Ship Type'].notnull()) & (df_pol['Ship Type'] != 'unknown') & (df_pol['Ship Type'] != 'na') & (df_pol['Ship Type'] != 'n/a')]\n",
    "\n",
    "#print('Source -> ship',update_source_to_ship)\n",
    "#2 returned events have Ship Type = recreational; their Source value should be filled with ship\n",
    "\n",
    "update_source_to_unknown = df_pol.loc[mask & ((df_pol['Ship Type'].isnull()) | (df_pol['Ship Type'] == 'unknown') | (df_pol['Ship Type'] == 'na') | (df_pol['Ship Type'] == 'n/a'))]\n",
    "#print('Source -> unknown',update_source_to_unknown)\n",
    "#5 other results should have Ship Type NAN, their Source should be filled as unknownbe filled with \n"
   ]
  },
  {
   "cell_type": "code",
   "execution_count": 32,
   "id": "12805f24",
   "metadata": {},
   "outputs": [],
   "source": [
    "#Fill empty values in 'Source' with ship or unknown depending on conditions set and checked above\n",
    "\n",
    "df_pol.loc[mask & (df_pol['Ship Type'].notnull()) & (df_pol['Ship Type'] != 'unknown') & (df_pol['Ship Type'] != 'na') & (df_pol['Ship Type'] != 'n/a'), 'Source'] = 'ship'\n",
    "df_pol.loc[mask & ((df_pol['Ship Type'].isnull()) | (df_pol['Ship Type'] == 'unknown') | (df_pol['Ship Type'] == 'na') | (df_pol['Ship Type'] == 'n/a')), 'Source'] = 'unknown'"
   ]
  },
  {
   "cell_type": "code",
   "execution_count": 33,
   "id": "a02347d1",
   "metadata": {},
   "outputs": [
    {
     "data": {
      "text/html": [
       "<div>\n",
       "<style scoped>\n",
       "    .dataframe tbody tr th:only-of-type {\n",
       "        vertical-align: middle;\n",
       "    }\n",
       "\n",
       "    .dataframe tbody tr th {\n",
       "        vertical-align: top;\n",
       "    }\n",
       "\n",
       "    .dataframe thead th {\n",
       "        text-align: right;\n",
       "    }\n",
       "</style>\n",
       "<table border=\"1\" class=\"dataframe\">\n",
       "  <thead>\n",
       "    <tr style=\"text-align: right;\">\n",
       "      <th></th>\n",
       "      <th>Date</th>\n",
       "      <th>Region</th>\n",
       "      <th>Source</th>\n",
       "      <th>Ship Type</th>\n",
       "      <th>Area</th>\n",
       "      <th>Location</th>\n",
       "      <th>Pollutant</th>\n",
       "      <th>Estimated Litres</th>\n",
       "    </tr>\n",
       "    <tr>\n",
       "      <th>Event ID</th>\n",
       "      <th></th>\n",
       "      <th></th>\n",
       "      <th></th>\n",
       "      <th></th>\n",
       "      <th></th>\n",
       "      <th></th>\n",
       "      <th></th>\n",
       "      <th></th>\n",
       "    </tr>\n",
       "  </thead>\n",
       "  <tbody>\n",
       "    <tr>\n",
       "      <th>145</th>\n",
       "      <td>2004-04-02 00:00:00</td>\n",
       "      <td>Brisbane</td>\n",
       "      <td>aircraft</td>\n",
       "      <td>helicopter</td>\n",
       "      <td>port</td>\n",
       "      <td>Kedron Brook Floodway, Brisbane</td>\n",
       "      <td>avgas</td>\n",
       "      <td>unknown</td>\n",
       "    </tr>\n",
       "    <tr>\n",
       "      <th>172</th>\n",
       "      <td>2004-07-30 00:00:00</td>\n",
       "      <td>Brisbane</td>\n",
       "      <td>helicopter</td>\n",
       "      <td>NaN</td>\n",
       "      <td>coastal waters</td>\n",
       "      <td>Helicopter Pontoon, South Bank Reach</td>\n",
       "      <td>avgas</td>\n",
       "      <td>unknown</td>\n",
       "    </tr>\n",
       "    <tr>\n",
       "      <th>516</th>\n",
       "      <td>2011-04-19 00:00:00</td>\n",
       "      <td>Townsville</td>\n",
       "      <td>truck in water</td>\n",
       "      <td>NaN</td>\n",
       "      <td>coastal waters</td>\n",
       "      <td>Palm Island Jetty, Palm Island</td>\n",
       "      <td>diesel</td>\n",
       "      <td>unknown</td>\n",
       "    </tr>\n",
       "    <tr>\n",
       "      <th>1002</th>\n",
       "      <td>2019-05-27 00:00:00</td>\n",
       "      <td>Gladstone</td>\n",
       "      <td>coral</td>\n",
       "      <td>NaN</td>\n",
       "      <td>port limits</td>\n",
       "      <td>Gladstone Marina, Gladstone</td>\n",
       "      <td>trichodesmium</td>\n",
       "      <td>200m</td>\n",
       "    </tr>\n",
       "  </tbody>\n",
       "</table>\n",
       "</div>"
      ],
      "text/plain": [
       "                         Date      Region          Source   Ship Type  \\\n",
       "Event ID                                                                \n",
       "145       2004-04-02 00:00:00    Brisbane        aircraft  helicopter   \n",
       "172       2004-07-30 00:00:00    Brisbane      helicopter         NaN   \n",
       "516       2011-04-19 00:00:00  Townsville  truck in water         NaN   \n",
       "1002      2019-05-27 00:00:00   Gladstone           coral         NaN   \n",
       "\n",
       "                    Area                              Location      Pollutant  \\\n",
       "Event ID                                                                        \n",
       "145                 port       Kedron Brook Floodway, Brisbane          avgas   \n",
       "172       coastal waters  Helicopter Pontoon, South Bank Reach          avgas   \n",
       "516       coastal waters        Palm Island Jetty, Palm Island         diesel   \n",
       "1002         port limits           Gladstone Marina, Gladstone  trichodesmium   \n",
       "\n",
       "         Estimated Litres  \n",
       "Event ID                   \n",
       "145               unknown  \n",
       "172               unknown  \n",
       "516               unknown  \n",
       "1002                 200m  "
      ]
     },
     "execution_count": 33,
     "metadata": {},
     "output_type": "execute_result"
    }
   ],
   "source": [
    "#Check values other than ship, land and unknown\n",
    "\n",
    "other_mask = df_pol.loc[(df_pol[\"Source\"] != \"ship\") & (df_pol[\"Source\"] != \"unknown\") & (df_pol[\"Source\"] != \"land\")]\n",
    "other_mask\n"
   ]
  },
  {
   "cell_type": "code",
   "execution_count": 34,
   "id": "339b587b",
   "metadata": {},
   "outputs": [],
   "source": [
    "#Source for the 4 rows returned above ('aircraft, helipcopter, truck, coral) to be replaced with 'other'\n",
    "\n",
    "df_pol.loc[(df_pol[\"Source\"] != \"ship\") & (df_pol[\"Source\"] != \"unknown\") & (df_pol[\"Source\"] != \"land\"), \"Source\"] = \"other\"\n"
   ]
  },
  {
   "cell_type": "code",
   "execution_count": 35,
   "id": "b36548cd",
   "metadata": {},
   "outputs": [],
   "source": [
    "# Replace \"Source\" with \"other\" rather than ship for the \"n/a - museum piece\" with \"n/a\" in rows where \"Ship Type\" is \"n/a - museum piece\"\n",
    "\n",
    "#print(df_pol.loc[df_pol['Ship Type'] == 'n/a - museum piece'])\n",
    "\n",
    "df_pol.loc[df_pol['Ship Type'] == 'n/a - museum piece', 'Source'] = 'other'"
   ]
  },
  {
   "cell_type": "code",
   "execution_count": 36,
   "id": "97a8e4f6",
   "metadata": {},
   "outputs": [
    {
     "data": {
      "text/plain": [
       "array(['ship', 'unknown', 'land', 'other'], dtype=object)"
      ]
     },
     "execution_count": 36,
     "metadata": {},
     "output_type": "execute_result"
    }
   ],
   "source": [
    "df_source = df_pol[\"Source\"].unique()\n",
    "df_source\n",
    "\n",
    "#Source now reduced to 4 values"
   ]
  },
  {
   "cell_type": "code",
   "execution_count": 37,
   "id": "a60b778a",
   "metadata": {},
   "outputs": [],
   "source": [
    "# Ship Type #"
   ]
  },
  {
   "cell_type": "code",
   "execution_count": 38,
   "id": "f8cbe40e",
   "metadata": {},
   "outputs": [],
   "source": [
    "#Commercial - add :  trading - oil tanker - tanker - trading ship - comm - bulk carrier\n",
    "df_pol.loc[(df_pol[\"Ship Type\"]== 'trading'), \"Ship Type\"] = \"commercial\"\n",
    "df_pol.loc[(df_pol[\"Ship Type\"]== 'tanker'), \"Ship Type\"] = \"commercial\"\n",
    "df_pol.loc[(df_pol[\"Ship Type\"]== 'oil tanker'), \"Ship Type\"] = \"commercial\"\n",
    "df_pol.loc[(df_pol[\"Ship Type\"]== 'trading ship'), \"Ship Type\"] = \"commercial\"\n",
    "df_pol.loc[(df_pol[\"Ship Type\"]== 'comm'), \"Ship Type\"] = \"commercial\"\n",
    "df_pol.loc[(df_pol[\"Ship Type\"]== 'bulk carrier'), \"Ship Type\"] = \"commercial\""
   ]
  },
  {
   "cell_type": "code",
   "execution_count": 39,
   "id": "80801503",
   "metadata": {},
   "outputs": [],
   "source": [
    "#Recreational - add : recreation - rec - 'sailling vessel'\n",
    "df_pol.loc[(df_pol[\"Ship Type\"]== 'recreation'), \"Ship Type\"] = \"recreational\"\n",
    "df_pol.loc[(df_pol[\"Ship Type\"]== 'rec'), \"Ship Type\"] = \"recreational\"\n",
    "df_pol.loc[(df_pol[\"Ship Type\"]== 'sailling vessel'), \"Ship Type\"] = \"recreational\""
   ]
  },
  {
   "cell_type": "code",
   "execution_count": 40,
   "id": "75632083",
   "metadata": {},
   "outputs": [],
   "source": [
    "#Fishing - add fish\n",
    "df_pol.loc[(df_pol[\"Ship Type\"]== 'fish'), \"Ship Type\"] = \"fishing\""
   ]
  },
  {
   "cell_type": "code",
   "execution_count": 41,
   "id": "0652a49b",
   "metadata": {},
   "outputs": [],
   "source": [
    "#Government - add : defence - naval - navy - customs\n",
    "df_pol.loc[(df_pol[\"Ship Type\"]== 'defence'), \"Ship Type\"] = \"government\"\n",
    "df_pol.loc[(df_pol[\"Ship Type\"]== 'naval'), \"Ship Type\"] = \"government\"\n",
    "df_pol.loc[(df_pol[\"Ship Type\"]== 'navy'), \"Ship Type\"] = \"government\"\n",
    "df_pol.loc[(df_pol[\"Ship Type\"]== 'customs'), \"Ship Type\"] = \"government\""
   ]
  },
  {
   "cell_type": "code",
   "execution_count": 42,
   "id": "dd6dc4f9",
   "metadata": {},
   "outputs": [],
   "source": [
    "#Empty / N/A / Other Ship types\n",
    "\n",
    "# Empty Ship Type values -> 'unknown' if 'Source' = 'ship'\n",
    "\n",
    "df_pol.loc[(df_pol['Ship Type'].isnull()) & (df_pol['Source'] == 'ship'), 'Ship Type'] = 'unknown'\n",
    "\n",
    "\n",
    "# Fill empty Ship Type values with \"n/a\" if \"Source\" is \"land\" or \"unknown\" or \"other\"\n",
    "\n",
    "df_pol.loc[(df_pol['Ship Type'].isnull()) & (df_pol['Source'].isin(['land', 'unknown', 'other'])), 'Ship Type'] = 'n/a'\n",
    "\n",
    "# Add 'na' to 'n/a' \n",
    "df_pol.loc[(df_pol['Ship Type']== 'na'), 'Ship Type'] = 'n/a'\n",
    "\n"
   ]
  },
  {
   "cell_type": "code",
   "execution_count": 43,
   "id": "cdbb1c74",
   "metadata": {},
   "outputs": [],
   "source": [
    "#Other (helicopter, land, n/a - museum piece) -> n/a\n",
    "\n",
    "df_pol.loc[(df_pol[\"Ship Type\"] != \"commercial\") \n",
    "& (df_pol[\"Ship Type\"] != \"recreational\") \n",
    "& (df_pol[\"Ship Type\"] != \"fishing\")\n",
    "& (df_pol[\"Ship Type\"] != \"government\") \n",
    "& (df_pol[\"Ship Type\"] != \"n/a\")\n",
    "& (df_pol[\"Ship Type\"] != \"unknown\"), \"Ship Type\"] = 'n/a'"
   ]
  },
  {
   "cell_type": "code",
   "execution_count": 44,
   "id": "facd6e19",
   "metadata": {},
   "outputs": [
    {
     "name": "stdout",
     "output_type": "stream",
     "text": [
      "commercial      351\n",
      "unknown         243\n",
      "n/a             237\n",
      "recreational    177\n",
      "fishing          76\n",
      "government       14\n",
      "Name: Ship Type, dtype: int64\n"
     ]
    }
   ],
   "source": [
    "ship_type_counts = df_pol['Ship Type'].value_counts()\n",
    "print(ship_type_counts)"
   ]
  },
  {
   "cell_type": "code",
   "execution_count": 45,
   "id": "a45e62c6",
   "metadata": {},
   "outputs": [],
   "source": [
    "# Area #\n",
    "\n",
    "#no N/A, need to check \n",
    "\n",
    "#Port Limits - add : port  - marina\n",
    "df_pol.loc[(df_pol[\"Area\"]== 'port'), \"Area\"] = \"port limits\"\n",
    "df_pol.loc[(df_pol[\"Area\"]== 'marina'), \"Area\"] = \"port limits\"\n",
    "\n",
    "#Coastal Waters - add : coastal - offshore - territorial sea\n",
    "df_pol.loc[(df_pol[\"Area\"]== 'coastal'), \"Area\"] = \"coastal waters\"\n",
    "df_pol.loc[(df_pol[\"Area\"]== 'offshore'), \"Area\"] = \"coastal waters\"\n",
    "df_pol.loc[(df_pol[\"Area\"]== 'territorial sea'), \"Area\"] = \"coastal waters\"\n",
    "\n",
    "#Great barrier reef: gbr - gbrmp (35 events)\n",
    "df_pol.loc[(df_pol[\"Area\"]== 'gbr'), \"Area\"] = \"great barrier reef\"\n",
    "df_pol.loc[(df_pol[\"Area\"]== 'gbrmp'), \"Area\"] = \"great barrier reef\"\n"
   ]
  },
  {
   "cell_type": "code",
   "execution_count": 46,
   "id": "892574fe",
   "metadata": {},
   "outputs": [
    {
     "name": "stdout",
     "output_type": "stream",
     "text": [
      "port limits           662\n",
      "coastal waters        391\n",
      "great barrier reef     35\n",
      "inland waters          10\n",
      "Name: Area, dtype: int64\n"
     ]
    }
   ],
   "source": [
    "area_counts = df_pol['Area'].value_counts()\n",
    "print(area_counts)"
   ]
  },
  {
   "cell_type": "code",
   "execution_count": 47,
   "id": "ae399d32",
   "metadata": {},
   "outputs": [
    {
     "data": {
      "text/html": [
       "<div>\n",
       "<style scoped>\n",
       "    .dataframe tbody tr th:only-of-type {\n",
       "        vertical-align: middle;\n",
       "    }\n",
       "\n",
       "    .dataframe tbody tr th {\n",
       "        vertical-align: top;\n",
       "    }\n",
       "\n",
       "    .dataframe thead th {\n",
       "        text-align: right;\n",
       "    }\n",
       "</style>\n",
       "<table border=\"1\" class=\"dataframe\">\n",
       "  <thead>\n",
       "    <tr style=\"text-align: right;\">\n",
       "      <th></th>\n",
       "      <th>Date</th>\n",
       "      <th>Region</th>\n",
       "      <th>Source</th>\n",
       "      <th>Ship Type</th>\n",
       "      <th>Area</th>\n",
       "      <th>Location</th>\n",
       "      <th>Pollutant</th>\n",
       "      <th>Estimated Litres</th>\n",
       "    </tr>\n",
       "  </thead>\n",
       "  <tbody>\n",
       "    <tr>\n",
       "      <th>count</th>\n",
       "      <td>1096</td>\n",
       "      <td>1098</td>\n",
       "      <td>1098</td>\n",
       "      <td>1098</td>\n",
       "      <td>1098</td>\n",
       "      <td>1098</td>\n",
       "      <td>1096</td>\n",
       "      <td>1077</td>\n",
       "    </tr>\n",
       "    <tr>\n",
       "      <th>unique</th>\n",
       "      <td>981</td>\n",
       "      <td>9</td>\n",
       "      <td>4</td>\n",
       "      <td>6</td>\n",
       "      <td>4</td>\n",
       "      <td>866</td>\n",
       "      <td>103</td>\n",
       "      <td>152</td>\n",
       "    </tr>\n",
       "    <tr>\n",
       "      <th>top</th>\n",
       "      <td>2014-07-18 00:00:00</td>\n",
       "      <td>Brisbane</td>\n",
       "      <td>ship</td>\n",
       "      <td>commercial</td>\n",
       "      <td>port limits</td>\n",
       "      <td>Marina Mirage, Port Douglas</td>\n",
       "      <td>diesel</td>\n",
       "      <td>unknown</td>\n",
       "    </tr>\n",
       "    <tr>\n",
       "      <th>freq</th>\n",
       "      <td>3</td>\n",
       "      <td>347</td>\n",
       "      <td>664</td>\n",
       "      <td>351</td>\n",
       "      <td>662</td>\n",
       "      <td>15</td>\n",
       "      <td>463</td>\n",
       "      <td>603</td>\n",
       "    </tr>\n",
       "  </tbody>\n",
       "</table>\n",
       "</div>"
      ],
      "text/plain": [
       "                       Date    Region Source   Ship Type         Area  \\\n",
       "count                  1096      1098   1098        1098         1098   \n",
       "unique                  981         9      4           6            4   \n",
       "top     2014-07-18 00:00:00  Brisbane   ship  commercial  port limits   \n",
       "freq                      3       347    664         351          662   \n",
       "\n",
       "                           Location Pollutant Estimated Litres  \n",
       "count                          1098      1096             1077  \n",
       "unique                          866       103              152  \n",
       "top     Marina Mirage, Port Douglas    diesel          unknown  \n",
       "freq                             15       463              603  "
      ]
     },
     "execution_count": 47,
     "metadata": {},
     "output_type": "execute_result"
    }
   ],
   "source": [
    "df_pol.describe()"
   ]
  },
  {
   "cell_type": "code",
   "execution_count": 48,
   "id": "2ed4c9cc",
   "metadata": {},
   "outputs": [
    {
     "data": {
      "text/plain": [
       "Date                 2\n",
       "Region               0\n",
       "Source               0\n",
       "Ship Type            0\n",
       "Area                 0\n",
       "Location             0\n",
       "Pollutant            2\n",
       "Estimated Litres    21\n",
       "dtype: int64"
      ]
     },
     "execution_count": 48,
     "metadata": {},
     "output_type": "execute_result"
    }
   ],
   "source": [
    "df_pol.isnull().sum()"
   ]
  },
  {
   "cell_type": "code",
   "execution_count": 49,
   "id": "e81e2451",
   "metadata": {},
   "outputs": [],
   "source": [
    "# Location\n",
    "# Data is not consistent, but irrelevant for analysis"
   ]
  },
  {
   "cell_type": "code",
   "execution_count": 50,
   "id": "2b3531c0",
   "metadata": {},
   "outputs": [],
   "source": [
    "# Pollutant #\n",
    "# sheen, diesel, bilge, heavy fuel oil (HFO) Thinking about sort all to \"Oil\"\n",
    "\n",
    "\n",
    "# Will use sql count function to highlight the most common pollutant: \n",
    "# - in Australia (all datasets)\n",
    "# - groupby region\n",
    "# - groupby Ship Type\n",
    "# - groupby date ? \n"
   ]
  },
  {
   "cell_type": "code",
   "execution_count": 51,
   "id": "2a4d3ea9",
   "metadata": {},
   "outputs": [
    {
     "name": "stdout",
     "output_type": "stream",
     "text": [
      "diesel                       463\n",
      "sheen                        185\n",
      "bilge                        101\n",
      "other                         43\n",
      "hfo                           34\n",
      "                            ... \n",
      "carbon from diesel engine      1\n",
      "heating                        1\n",
      " petrol                        1\n",
      "coolant                        1\n",
      "sewage                         1\n",
      "Name: Pollutant, Length: 103, dtype: int64\n"
     ]
    }
   ],
   "source": [
    "pollutant_counts = df_pol['Pollutant'].value_counts()\n",
    "print(pollutant_counts)"
   ]
  },
  {
   "cell_type": "code",
   "execution_count": 52,
   "id": "3c68edc8",
   "metadata": {},
   "outputs": [],
   "source": [
    "#Pollutant#\n",
    "\n",
    "# Regroup all values that contain diesel\n",
    "df_pol['Pollutant'] = df_pol['Pollutant'].replace(to_replace=r'.*diesel.*', value='diesel', regex=True)\n",
    "\n",
    "# Regroup all values that contain sheen\n",
    "df_pol['Pollutant'] = df_pol['Pollutant'].replace(to_replace=r'.*sheen.*', value='sheen', regex=True)\n",
    "\n",
    "# Regroup all values that contain bilge\n",
    "df_pol['Pollutant'] = df_pol['Pollutant'].replace(to_replace=r'.*bilge.*', value='bilge', regex=True)\n",
    "\n",
    "# Regroup hfo / fuel oil / heavy fuel oil\n",
    "df_pol.loc[(df_pol['Pollutant']== 'hfo'), 'Pollutant'] = 'fuel oil'\n",
    "df_pol.loc[(df_pol['Pollutant']== 'heavy fuel oil'), 'Pollutant'] = 'fuel oil'\n",
    "\n",
    "#Regroup all values that contain lub\n",
    "df_pol['Pollutant'] = df_pol['Pollutant'].replace(to_replace=r'.*lub.*', value='lubricating oil', regex=True)\n",
    "\n",
    "#Regroup all values that contain petrol\n",
    "df_pol['Pollutant'] = df_pol['Pollutant'].replace(to_replace=r'.*petrol.*', value='petroleum', regex=True)\n",
    "\n",
    "#Regroup all values that contain hydraulic\n",
    "df_pol['Pollutant'] = df_pol['Pollutant'].replace(to_replace=r'.*hydraulic.*', value='hydraulic', regex=True)\n",
    "\n",
    "#Regroup other oil\n",
    "df_pol['Pollutant'] = df_pol['Pollutant'].replace(to_replace=r'.*oil.*', value='other oil', regex=True)\n",
    "\n",
    "#Regroup all other pollutants (occuring between 1 and 4 times each)\n",
    "\n",
    "df_pol.loc[(df_pol[\"Pollutant\"] != \"diesel\") \n",
    "& (df_pol[\"Pollutant\"] != \"sheen\") \n",
    "& (df_pol[\"Pollutant\"] != \"bilge\")\n",
    "& (df_pol[\"Pollutant\"] != \"fuel oil\") \n",
    "& (df_pol[\"Pollutant\"] != \"lubricating oil\")\n",
    "& (df_pol[\"Pollutant\"] != \"petroleum\")\n",
    "& (df_pol[\"Pollutant\"] != \"hydraulic\")\n",
    "& (df_pol[\"Pollutant\"] != \"other oil\")\n",
    "& (df_pol[\"Pollutant\"] != \"unknown\"), \"Pollutant\"] = 'other'\n",
    "\n",
    "#Now reduced from 103 to 8 values\n"
   ]
  },
  {
   "cell_type": "code",
   "execution_count": 53,
   "id": "a0dfbfbd",
   "metadata": {},
   "outputs": [
    {
     "name": "stdout",
     "output_type": "stream",
     "text": [
      "diesel       475\n",
      "sheen        186\n",
      "hydraulic    114\n",
      "other        110\n",
      "bilge        105\n",
      "other oil     77\n",
      "unknown       20\n",
      "petroleum     11\n",
      "Name: Pollutant, dtype: int64\n"
     ]
    }
   ],
   "source": [
    "pollutant_counts = df_pol['Pollutant'].value_counts()\n",
    "print(pollutant_counts)"
   ]
  },
  {
   "cell_type": "code",
   "execution_count": 54,
   "id": "eac984bb",
   "metadata": {},
   "outputs": [],
   "source": [
    "# Estimated Litres #\n",
    "\n",
    "#if \"ml\", divide the number before by 1000 and remove ml\n",
    "#if finishes with digit or space followed by \"l\" or \"litre\" or \"litres\", remove \"l\" or \"litre\" or \"litres\" \n",
    "#if \"<\" or \">\", remove \"<\" or \">\"\n",
    "#if includes \"-\" between 2 numbers, average number before and number after\n",
    "#if includes \"to\" between 2 number, average number before and number after\n",
    "#if includes \"/\" between 2 numbers, divide 1st number by 2nd number\n",
    "#if \",\" followed by \"000\", remove \",\"\n",
    "#if \"cubic metre\", remove \"cubic metre\" and multiply number * 1000\n",
    "#if \".\" between 2 numbers, convert string to float\n",
    "#if \"algal bloom\" or \"oily rags\", copy value in the \"Pollutant\" column if the value in the Pollutant column is empty or \"other\"\n",
    "#if \"+l\", remove \"+l\"\n",
    "#if \"mil\", multiply number by 1000000\n",
    "#if \"sheen\", delete\n",
    "#if ends with \"g\" or \"kg\", replace with N/A (this is not a volume)\n",
    "#if only 1 \"x\" and 1 or several m, replace with N/A (this is an area, not a volume)\n",
    "#if ends with \"m\" or \"m2\" and \"m\" is the only alphabetic character, replace with N/A\n",
    "\n",
    "#"
   ]
  },
  {
   "cell_type": "code",
   "execution_count": 62,
   "id": "1bc196f3",
   "metadata": {},
   "outputs": [],
   "source": [
    "def clean_volume(value):\n",
    "    value = str(value)\n",
    "\n",
    "    \n",
    "    # Extract numbers and decimal point\n",
    "    #numbers = \"\"\n",
    "    #for char in value:\n",
    "    #    if char.isdigit() or char == \".\" or char in (\"-\",\"to\",\"/\",\"x\"):\n",
    "    #        numbers += char\n",
    "            \n",
    "\n",
    "    # Remove \"litre\" or \"litres\"\n",
    "    value = value.replace(\"litre\", \"\")\n",
    "    value = value.replace(\"litres\", \"\")\n",
    "    \n",
    "    # Remove any commas\n",
    "    value = value.replace(\",\", \"\")\n",
    "\n",
    "    # Check for \"algal bloom\", \"oily rags\" or \"sheen\"\n",
    "    if value in [\"algal bloom\", \"oily rags\", \"sheen\"]:\n",
    "        return np.nan\n",
    "    \n",
    "    # Ignore values that are weights by checking for \"g\" or \"kg\"\n",
    "    if \"g\" in value or \"kg\" in value:\n",
    "        return np.nan\n",
    "    \n",
    "    # Check for \"x\"\n",
    "    if \"x\" in value:\n",
    "        return np.nan\n",
    "    \n",
    "    # Remove \"<\" or \">\"\n",
    "    if \">\" in value or \"<\" in value:\n",
    "        value = value.replace(\"<\", \"\").replace(\">\", \"\")\n",
    "\n",
    "    # Remove \"+l\"\n",
    "    if \"+l\" in value:\n",
    "        value = value.replace(\"+l\", \"\")\n",
    "        \n",
    "    # Convert string to float\n",
    "    try:\n",
    "        volume = float(value)\n",
    "    except ValueError:\n",
    "        return np.nan\n",
    "    \n",
    "    # Convert \"mil\" to \"million\"\n",
    "    if \"mil\" in value:\n",
    "        value = value.replace(\"mil\", \"\")\n",
    "        volume *= 1000000\n",
    "\n",
    "    # Convert \"ml\"\n",
    "    if \"ml\" in value:\n",
    "        value = value.replace(\"ml\", \"\")\n",
    "        volume /= 1000\n",
    " \n",
    "    # Remove \"l\" measure unit\n",
    "    if value.endswith(\"l\"):\n",
    "        value = value[:-1]\n",
    "        volume = float(value)\n",
    "\n",
    "    # Convert \"cubic metre\"\n",
    "    if \"cubic metre\" in value:\n",
    "        value = value.replace(\"cubic metre\", \"\")\n",
    "        volume *= 1000\n",
    "    \n",
    "    # Check for \"-\" and average both numbers\n",
    "    if \"-\" in value:\n",
    "        values = value.split(\"-\")\n",
    "        if all(val.isdigit() for val in values):\n",
    "            volume = (float(values[0]) + float(values[1])) / 2\n",
    "        else:\n",
    "            return np.nan\n",
    "\n",
    "    # Check for \"to\" and average both numbers\n",
    "    if \"to\" in value:\n",
    "        values = value.split(\"to\")\n",
    "        if all(val.isdigit() for val in values):\n",
    "            volume = (float(values[0]) + float(values[1])) / 2\n",
    "        else:\n",
    "            return np.nan\n",
    "\n",
    "    # Check for \"/\"\n",
    "    if \"/\" in value:\n",
    "        values = value.split(\"/\")\n",
    "        if all(val.isdigit() for val in values):\n",
    "            volume = float(values[0]) / float(values[1])\n",
    "        else:\n",
    "            return np.nan\n",
    "        \n",
    "    \n",
    "    # Check for \"-\" or \"to\" or \"/\" or \"x\"\n",
    "    #if \"-\" in value or \"to\" in value or \"/\" in value or \"x\" in value:\n",
    "    #    return np.nan\n",
    "    \n",
    "    # Check for \"-\" and average both numbers\n",
    "    #if \"-\" in value:\n",
    "        #values = value.split(\"-\")\n",
    "        #try:\n",
    "        #volume = (float(values[0]) + float(values[1])) / 2\n",
    "        #except ValueError:\n",
    "    #    return np.nan\n",
    "\n",
    "    # Check for \"to\" and average both numbers\n",
    "    #if \"to\" in value:\n",
    "        #values = value.split(\"to\")\n",
    "        #try:\n",
    "        #volume = (float(values[0]) + float(values[1])) / 2\n",
    "        #except ValueError:\n",
    "    #    return np.nan\n",
    "\n",
    "    # Check for \"/\"\n",
    "    #if \"/\" in value:\n",
    "        #values = value.split(\"/\")\n",
    "        #try:\n",
    "        #volume = float(values[0]) / float(values[1])\n",
    "        #except ValueError:\n",
    "    #    return np.nan\n",
    "       \n",
    "    return volume"
   ]
  },
  {
   "cell_type": "code",
   "execution_count": 63,
   "id": "76986116",
   "metadata": {},
   "outputs": [
    {
     "name": "stdout",
     "output_type": "stream",
     "text": [
      "                         Date      Region   Source     Ship Type  \\\n",
      "Event ID                                                           \n",
      "1         2002-07-02 00:00:00      Cairns     ship    commercial   \n",
      "2         2002-07-03 00:00:00      Cairns  unknown  recreational   \n",
      "3         2002-07-12 00:00:00   Gladstone     ship       unknown   \n",
      "4         2002-07-22 00:00:00    Brisbane  unknown       unknown   \n",
      "5         2002-08-01 00:00:00  Gold Coast     ship  recreational   \n",
      "...                       ...         ...      ...           ...   \n",
      "1094      2020-06-15 00:00:00   Gladstone     ship  recreational   \n",
      "1095      2020-06-16 00:00:00  Townsville     ship    commercial   \n",
      "1096      2020-06-16 00:00:00    Brisbane     ship    commercial   \n",
      "1097      2020-06-23 00:00:00      Cairns  unknown       unknown   \n",
      "1098      2020-06-29 00:00:00      Cairns     land  recreational   \n",
      "\n",
      "                    Area                                       Location  \\\n",
      "Event ID                                                                  \n",
      "1            port limits                  Trinity Inlet, Cairns Harbour   \n",
      "2         coastal waters                    Marina Mirage, Port Douglas   \n",
      "3         coastal waters                      SE of Double Island Point   \n",
      "4         coastal waters                     Town Reach, Brisbane River   \n",
      "5         coastal waters                            Canal area - Benowa   \n",
      "...                  ...                                            ...   \n",
      "1094         port limits                    Gladstone Marina, Gladstone   \n",
      "1095         port limits    Breakwater Terminal, Ross Creek, Townsville   \n",
      "1096         port limits    Fisherman Island 3 berth, Port of Brisbane    \n",
      "1097         port limits                   Cairns Marlin Marina, Cairns   \n",
      "1098         port limits  Cairns Marlin Marina Sail fish Quays , Cairns   \n",
      "\n",
      "          Pollutant  Estimated Litres  \n",
      "Event ID                               \n",
      "1            diesel               NaN  \n",
      "2             bilge               NaN  \n",
      "3             bilge               NaN  \n",
      "4            diesel               NaN  \n",
      "5            diesel               NaN  \n",
      "...             ...               ...  \n",
      "1094          other               NaN  \n",
      "1095          other               NaN  \n",
      "1096      hydraulic               NaN  \n",
      "1097         diesel               NaN  \n",
      "1098         diesel               NaN  \n",
      "\n",
      "[1098 rows x 8 columns]\n"
     ]
    }
   ],
   "source": [
    "# Apply the function to the \"Estimated Litres\" column\n",
    "df_pol['Estimated Litres'] = df_pol['Estimated Litres'].apply(clean_volume)\n",
    "\n",
    "# Convert the \"Estimated Litres\" column to numeric values\n",
    "#df_pol['Estimated Litres'] = pd.to_numeric(df_pol['Estimated Litres'], errors='coerce')\n",
    "\n",
    "# Print cleaned DataFrame\n",
    "print(df_pol)"
   ]
  },
  {
   "cell_type": "code",
   "execution_count": 64,
   "id": "1d0c6684",
   "metadata": {},
   "outputs": [
    {
     "data": {
      "text/plain": [
       "Date                  2\n",
       "Region                0\n",
       "Source                0\n",
       "Ship Type             0\n",
       "Area                  0\n",
       "Location              0\n",
       "Pollutant             0\n",
       "Estimated Litres    744\n",
       "dtype: int64"
      ]
     },
     "execution_count": 64,
     "metadata": {},
     "output_type": "execute_result"
    }
   ],
   "source": [
    "df_pol.isnull().sum()"
   ]
  },
  {
   "cell_type": "code",
   "execution_count": 65,
   "id": "51d4882f",
   "metadata": {},
   "outputs": [],
   "source": [
    "df_pol.to_csv(\"pollution-cleaning-vol-wip.csv\", encoding=\"utf8\")"
   ]
  },
  {
   "cell_type": "code",
   "execution_count": 59,
   "id": "10c196a1",
   "metadata": {},
   "outputs": [],
   "source": [
    "#Command SQL\n",
    "\n",
    "#Select Region. Pollutant. COUNT(*)\n",
    "#FROM pollution_3\n",
    "#GROUP BY Region. Pollutant\n",
    "#ORDER BY COUNT(*) DESC;"
   ]
  },
  {
   "cell_type": "code",
   "execution_count": 60,
   "id": "534518d7",
   "metadata": {},
   "outputs": [],
   "source": [
    "# - groupby region\n",
    "\n",
    "#SELECT Region, Pollutant, COUNT(*)\n",
    "#FROM `pollution-test_3_datetime_ascii`\n",
    "#WHERE Region = \"name region\" -- input any regions\n",
    "#GROUP BY Region, Pollutant\n",
    "#ORDER BY COUNT(*) DESC;"
   ]
  },
  {
   "cell_type": "code",
   "execution_count": 1,
   "id": "fb60c5d0",
   "metadata": {},
   "outputs": [],
   "source": [
    "# -- identify pollutant for a specific year\n",
    "\n",
    "#SELECT Region,Pollutant, Count(Pollutant)\n",
    "#FROM `pollution-test_3_datetime_ascii`\n",
    "#WHERE Date like \"2005%\" AND Pollutant = \"diesel\"\n",
    "#GROUP BY Region, Pollutant\n",
    "#ORDER BY Count(Pollutant) DESC;"
   ]
  },
  {
   "cell_type": "code",
   "execution_count": 2,
   "id": "1cd7c3a2",
   "metadata": {},
   "outputs": [
    {
     "ename": "NameError",
     "evalue": "name 'df_region' is not defined",
     "output_type": "error",
     "traceback": [
      "\u001b[0;31m---------------------------------------------------------------------------\u001b[0m",
      "\u001b[0;31mNameError\u001b[0m                                 Traceback (most recent call last)",
      "\u001b[0;32m/var/folders/fp/nkvz8km55ybd4yzr2wcb2pjr0000gn/T/ipykernel_80799/1917884730.py\u001b[0m in \u001b[0;36m<module>\u001b[0;34m\u001b[0m\n\u001b[0;32m----> 1\u001b[0;31m \u001b[0mdf_region\u001b[0m\u001b[0;34m\u001b[0m\u001b[0;34m\u001b[0m\u001b[0m\n\u001b[0m",
      "\u001b[0;31mNameError\u001b[0m: name 'df_region' is not defined"
     ]
    }
   ],
   "source": [
    "df_region = df_pol[\"Region\"].unique()"
   ]
  }
 ],
 "metadata": {
  "kernelspec": {
   "display_name": "Python 3 (ipykernel)",
   "language": "python",
   "name": "python3"
  },
  "language_info": {
   "codemirror_mode": {
    "name": "ipython",
    "version": 3
   },
   "file_extension": ".py",
   "mimetype": "text/x-python",
   "name": "python",
   "nbconvert_exporter": "python",
   "pygments_lexer": "ipython3",
   "version": "3.9.13"
  }
 },
 "nbformat": 4,
 "nbformat_minor": 5
}
